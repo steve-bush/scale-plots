{
 "cells": [
  {
   "cell_type": "markdown",
   "id": "42c8f1f1",
   "metadata": {},
   "source": [
    "# CoverX Covariance File\n",
    "Each section's formatting is described below with the code to read in each section given as well. Each major section starts and ends with a 4 byte integer which equals the number of bytes contained in each section. This value can be used to skip around values we do not care about such as file identification."
   ]
  },
  {
   "cell_type": "code",
   "execution_count": 1,
   "id": "dce387cc",
   "metadata": {},
   "outputs": [],
   "source": [
    "from struct import unpack\n",
    "import numpy as np\n",
    "import pandas as pd\n",
    "\n",
    "filename = 'scale.rev08.56groupcov7.1'\n",
    "\n",
    "# Read in and save the full binary file\n",
    "with open(filename, 'rb') as file:\n",
    "    full_file = file.read()"
   ]
  },
  {
   "cell_type": "markdown",
   "id": "69db3e92",
   "metadata": {},
   "source": [
    "## File identification\n",
    "Length: Varies. Must read in length.\n",
    "\n",
    "This sections contains the file name and user info. We have not use for it so only find the length."
   ]
  },
  {
   "cell_type": "code",
   "execution_count": 2,
   "id": "af2d0a71",
   "metadata": {},
   "outputs": [],
   "source": [
    "# Read the file identification length in bytes to skip\n",
    "# Find out if the file is big or little endian\n",
    "# Scale decided to switch that for some of their libraries\n",
    "file_id_len = unpack('>i', full_file[0:4])[0]\n",
    "# If the length is massive its little-endian\n",
    "if file_id_len > 100:\n",
    "    sym = '<'\n",
    "    file_id_len = unpack('<i', full_file[0:4])[0]\n",
    "else:\n",
    "    sym = '>'"
   ]
  },
  {
   "cell_type": "markdown",
   "id": "cbb4b80b",
   "metadata": {},
   "source": [
    "## File Control\n",
    "Length: 28 bytes\n",
    "\n",
    "All values are 4 byte integers\n",
    "* Number of Energy Groups\n",
    "* Number of Neutron Groups\n",
    "* Number of Gamma Groups\n",
    "* Type of Data (Should always be 2 for Relative Covariance Matrix)\n",
    "* Number of Mat - MT Pairs\n",
    "* Number of Matrices"
   ]
  },
  {
   "cell_type": "code",
   "execution_count": 3,
   "id": "119a95df",
   "metadata": {},
   "outputs": [],
   "source": [
    "# Start is file id length + 3 integers for sections length\n",
    "file_cont_st = file_id_len + 12\n",
    "# File control should always be 28 bytes\n",
    "file_cont_end = file_cont_st + 28\n",
    "# Read in file control values and store important ones\n",
    "file_cont = unpack(sym+'iiiiiii', full_file[file_cont_st: file_cont_end])\n",
    "num_energy_group = file_cont[0]\n",
    "num_neutron_group = file_cont[1]\n",
    "num_gamma_group = file_cont[2]\n",
    "num_mat_mt = file_cont[4]\n",
    "num_matrix = file_cont[5]"
   ]
  },
  {
   "cell_type": "markdown",
   "id": "ad24b130",
   "metadata": {},
   "source": [
    "## File Description\n",
    "Length: Varies. Must read in length.\n",
    "\n",
    "The byte immedietly after file control will contain the length in bytes of this section. We have no use for this string of ASCII characters."
   ]
  },
  {
   "cell_type": "code",
   "execution_count": 4,
   "id": "189b9b67",
   "metadata": {},
   "outputs": [],
   "source": [
    "# Read file description length to skip it\n",
    "file_desc_len = unpack(sym+'i', full_file[file_cont_end+4:file_cont_end+8])[0]"
   ]
  },
  {
   "cell_type": "markdown",
   "id": "76ecbb2d",
   "metadata": {},
   "source": [
    "## Neutron and Gamma Group Boundaries\n",
    "Length: Number of Particle Groups + 1\n",
    "\n",
    "The 44groupcov file only contains neutron groups. The file we use should only use neutron, but the code below will process the boundaries whether they are given or not.\n",
    "\n",
    "For both particle groups, the boundaries are given as 4 byte floats from maximum to minimum energy bounds. Both sections begin and end with the number of bytes each section takes up if any groups are present."
   ]
  },
  {
   "cell_type": "code",
   "execution_count": 5,
   "id": "cfde2d19",
   "metadata": {},
   "outputs": [],
   "source": [
    "# Set to gamma start if no neutron energy groups are given\n",
    "n_end = file_cont_end + 8 + file_desc_len + 4\n",
    "# Read in neutron energy groups if available\n",
    "n_groups = []\n",
    "if num_neutron_group > 0:\n",
    "    n_start = file_cont_end + 8 + file_desc_len + 8\n",
    "    n_end = n_start + (num_neutron_group+1)*4\n",
    "    n_string = sym + 'f'*(num_neutron_group+1)\n",
    "    n_groups = list(unpack(n_string, full_file[n_start:n_end]))\n",
    "    n_end += 4\n",
    "\n",
    "# Set the gamma group ending to n_end if no groups available\n",
    "g_end = n_end\n",
    "# Read in gamma energy groups if available\n",
    "g_groups = []\n",
    "if num_gamma_group > 0:\n",
    "    g_start = n_end + 4\n",
    "    g_end = g_start + (num_gamma_group+1)*4\n",
    "    g_string = sym + 'f'*(num_gamma_group+1)\n",
    "    g_groups = list(unpack(g_string, full_file[g_start:g_end]))\n",
    "    g_end += 4"
   ]
  },
  {
   "cell_type": "markdown",
   "id": "5f4fd517",
   "metadata": {},
   "source": [
    "## Mat - MT Control\n",
    "Length: 3 * number of Mat - MT Pairs\n",
    "\n",
    "Contains the material identification number, reaction type identification number, and the cross section weighting option.\n",
    "\n",
    "Cross section weighting options:\n",
    "1. Constant\n",
    "2. 1/E\n",
    "3. Thermal + 1/E + Fission\n",
    "4. Arbitrary\n",
    "5. Combined CTR CRBR"
   ]
  },
  {
   "cell_type": "code",
   "execution_count": 6,
   "id": "bd4aa8e9",
   "metadata": {},
   "outputs": [],
   "source": [
    "# Read in the material reaction control data\n",
    "mat_controls = []\n",
    "for i in range(num_mat_mt):\n",
    "    # Setup for 3 integers\n",
    "    mat_start = g_end + 4 + i*12\n",
    "    mat_end = mat_start + 8\n",
    "    # Mat ID, Reaction ID, xs weighting option 1-5\n",
    "    mat_controls.append(unpack(sym+'ii', full_file[mat_start:mat_end]))\n",
    "mat_end += 4"
   ]
  },
  {
   "cell_type": "markdown",
   "id": "f1c520f4",
   "metadata": {},
   "source": [
    "## Material - Reaction Type Cross Sections and Error Files\n",
    "Length: number of mat-mt pairs * (2 * number of energy groups)\n",
    "\n",
    "For each mat-mt pair, the cross sections are listed followed by the standard deviations. Each cross section and standard deviation grouping begins and ends with the number of bytes contained. All values are given as 4 byte floats."
   ]
  },
  {
   "cell_type": "code",
   "execution_count": 7,
   "id": "0829737a",
   "metadata": {},
   "outputs": [],
   "source": [
    "# Read in the material cross sections and errors into a nested dict\n",
    "xs_dict = {}\n",
    "# Iterate through all material reactions\n",
    "for i in range(num_mat_mt):\n",
    "    mat_xs = {}\n",
    "    # Setup for number of energy groups floats\n",
    "    xs_start = mat_end + i*(num_energy_group+1)*8 + 8\n",
    "    xs_end = xs_start + num_energy_group*4\n",
    "    xs_string = sym + 'f'*num_energy_group\n",
    "    # Read in the cross sections for current material reaction\n",
    "    mat_xs['xs'] = list(unpack(xs_string, full_file[xs_start:xs_end]))\n",
    "    \n",
    "    # Setup for number of energy groups floats\n",
    "    err_start = xs_end\n",
    "    err_end = err_start + num_energy_group*4\n",
    "    err_string = xs_string\n",
    "    # Read in the cross section errors for current material reaction\n",
    "    mat_xs['std'] = list(unpack(err_string, full_file[err_start:err_end]))\n",
    "    \n",
    "    # Put the xs and error in the full xs dictionary\n",
    "    xs_dict[mat_controls[i]] = mat_xs\n",
    "\n",
    "err_end += 4"
   ]
  },
  {
   "cell_type": "markdown",
   "id": "3b8d5c19",
   "metadata": {},
   "source": [
    "## Matrices\n",
    "\n",
    "The sectons below are repeated for each matrix\n",
    "### Matrix Control\n",
    "Length: 5 bytes\n",
    "\n",
    "Contains:\n",
    "* Material 1 Identification Number\n",
    "* Reaction Type 1 Identification Number\n",
    "* Material 2 Identification Number\n",
    "* Reaction Type 2 Identification Number\n",
    "* Number of Blocks Into Which Matrix is Subdivided\n",
    "\n",
    "The number of blocks should always be 1. The code is written with this assumption since the documentation does a poor job of describing the format for this value being greater than 1.\n",
    "\n",
    "### Block Control\n",
    "Length: 2 * number of groups + number of blocks\n",
    "\n",
    "For each energy groups the below is given:\n",
    "* Bandwidth for group J (values that are non-zero)\n",
    "* Position of diagonal element for group\n",
    "\n",
    "The number of groups in each block is given at the end.\n",
    "\n",
    "### Matrix Data\n",
    "Length: Sum of bandwith for each group in a given block.\n",
    "\n",
    "The covarience value for the given type from from file control (relative covariance) is listed. The values are the columns of the matrix that are non-zero. The columns needs to be inserted such that the value given as the diagonal element is put at the diagonal for the column."
   ]
  },
  {
   "cell_type": "code",
   "execution_count": 8,
   "id": "0c02974d",
   "metadata": {
    "scrolled": false
   },
   "outputs": [],
   "source": [
    "# Read in the covariance matrices\n",
    "matrices = {}\n",
    "prev_end = err_end\n",
    "for i in range(num_matrix):\n",
    "    # Read in the matrix control data\n",
    "    # Setup to read 5 integers\n",
    "    matrix_cntrl_start = prev_end + 4\n",
    "    matrix_cntrl_end = matrix_cntrl_start + 20\n",
    "    matrix_cntrl = unpack(sym+'iiiii', full_file[matrix_cntrl_start:matrix_cntrl_end])\n",
    "    mat_1 = matrix_cntrl[0]\n",
    "    reac_1 = matrix_cntrl[1]\n",
    "    mat_2 = matrix_cntrl[2]\n",
    "    reac_2 = matrix_cntrl[3]\n",
    "    # Iterate past number of bytes value\n",
    "    matrix_cntrl_end += 4\n",
    "\n",
    "    # Read in the block control values\n",
    "    block_cntrl = []\n",
    "    # Iterate past the number of bytes in block control value\n",
    "    block_cntrl_start = matrix_cntrl_end + 4\n",
    "    block_cntrl_end = block_cntrl_start + 2*num_energy_group*4 + 8\n",
    "    # Iterate through all energy groups\n",
    "    for j in range(num_energy_group):\n",
    "        start = block_cntrl_start + j*8\n",
    "        # Values per group and position of diagonal element for group\n",
    "        block_cntrl.append(unpack(sym+'ii', full_file[start:start+8]))\n",
    "\n",
    "    # Read in the relative covariance matrix\n",
    "    matrix_start = block_cntrl_end + 4\n",
    "    prev_read = 0\n",
    "    # Initialize the matrix to an array of zeros\n",
    "    matrix = np.zeros((num_energy_group, num_energy_group), dtype=float)\n",
    "    col = 0\n",
    "    # For each energy grouping\n",
    "    for num_vals, diag_pos in block_cntrl:\n",
    "        # Read in each energy group's column\n",
    "        start = matrix_start + prev_read\n",
    "        end = start + num_vals*4\n",
    "        string = sym + 'f'*num_vals\n",
    "        full_col = unpack(string, full_file[start:end])\n",
    "        for row in range(num_vals):\n",
    "            # Place the values so the diagonal position is in the diagonal\n",
    "            matrix[col+row-diag_pos+1][col] = full_col[row]\n",
    "        # Update the previous read value to past this energy groups\n",
    "        prev_read += num_vals*4\n",
    "        col += 1\n",
    "    matrices[(mat_1, reac_1, mat_2, reac_2)] = matrix\n",
    "    prev_end = end + 4"
   ]
  }
 ],
 "metadata": {
  "kernelspec": {
   "display_name": "Python 3",
   "language": "python",
   "name": "python3"
  },
  "language_info": {
   "codemirror_mode": {
    "name": "ipython",
    "version": 3
   },
   "file_extension": ".py",
   "mimetype": "text/x-python",
   "name": "python",
   "nbconvert_exporter": "python",
   "pygments_lexer": "ipython3",
   "version": "3.9.1"
  }
 },
 "nbformat": 4,
 "nbformat_minor": 5
}
